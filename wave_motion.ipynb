{
  "nbformat": 4,
  "nbformat_minor": 0,
  "metadata": {
    "colab": {
      "provenance": [],
      "authorship_tag": "ABX9TyMHKsC6steLb7SQ5Sd9RoQv",
      "include_colab_link": true
    },
    "kernelspec": {
      "name": "python3",
      "display_name": "Python 3"
    },
    "language_info": {
      "name": "python"
    }
  },
  "cells": [
    {
      "cell_type": "markdown",
      "metadata": {
        "id": "view-in-github",
        "colab_type": "text"
      },
      "source": [
        "<a href=\"https://colab.research.google.com/github/Arkantrust/applied-math/blob/main/wave_motion.ipynb\" target=\"_parent\"><img src=\"https://colab.research.google.com/assets/colab-badge.svg\" alt=\"Open In Colab\"/></a>"
      ]
    },
    {
      "cell_type": "markdown",
      "source": [
        "# Wave Motion\n",
        "\n",
        "## David Dulce\n",
        "\n",
        "## Definition\n",
        "\n",
        "Wave motion is the propagation of a disturbance through a medium without an actual transport of matter.\n",
        "\n",
        "Energy is transferred over a distance but matter is not.\n",
        "\n",
        "Electromagentic waves transport energy in the form of photons. Photons are massless particles that travel at the speed of light in a vacuum. When a photon interacts with matter, it can transfer its energy to the matter, causing it to heat up or even to ionize. Examples of electromagnetic waves include radio waves, microwaves, infrared radiation, visible light, ultraviolet radiation, X-rays, and gamma rays."
      ],
      "metadata": {
        "id": "cSonc4WQSdwG"
      }
    },
    {
      "cell_type": "markdown",
      "source": [
        "## Mechanical Waves require:\n",
        "\n",
        "1. A source of disturbance\n",
        "\n",
        "2. A physical medium\n",
        "\n",
        "3. Propagation Mechanism"
      ],
      "metadata": {
        "id": "HRlPHcl8UpLi"
      }
    },
    {
      "cell_type": "markdown",
      "source": [
        "## Types of Mechanical Waves\n",
        "\n",
        "### Transverse Waves:\n",
        "\n",
        "The particles of the medium oscillate perpendicular to the direction of propagation of the wave. Examples of transverse waves include water waves, seismic waves, and light waves.\n",
        "\n",
        "### Longitudinal waves:\n",
        "\n",
        "The particles of the medium oscillate parallel to the direction of propagation of the wave. Examples of longitudinal waves include sound waves and compression waves in solids."
      ],
      "metadata": {
        "id": "AtbuK-sRUp1e"
      }
    },
    {
      "cell_type": "markdown",
      "source": [
        "## Characteristics\n",
        "\n",
        "All waves have the following characteristics:\n",
        "\n",
        "- Amplitude: The amplitude of a wave is the maximum displacement of the particles of the medium from their equilibrium positions.\n",
        "\n",
        "- Wavelength: The wavelength of a wave is the distance between two consecutive crests or troughs of the wave.\n",
        "\n",
        "- Frequency: The frequency of a wave is the number of crests or troughs that pass a given point in a given amount of time.\n",
        "\n",
        "- Speed: The speed of a wave is the distance that the wave travels in a given amount of time."
      ],
      "metadata": {
        "id": "Zot7rrpLU4MF"
      }
    },
    {
      "cell_type": "markdown",
      "source": [
        "## Superposition\n",
        "\n",
        "When two or more waves overlap, they interfere with each other. This interference can be constructive or destructive.\n",
        "\n",
        "- Constructive interference: When two waves overlap with crests aligned, the resulting wave has a larger amplitude than either of the original waves.\n",
        "\n",
        "- Destructive interference: When two waves overlap with troughs aligned, the resulting wave has a smaller amplitude than either of the original waves.\n",
        "\n",
        "Consider two waves with the following equations:\n",
        "\n",
        "$$u_1(x, t) = A_1 cos(kx_1 - ωt)$$\n",
        "$$u_2(x, t) = A_2 cos(kx_2 - ωt)$$\n",
        "\n",
        "where:\n",
        "\n",
        "- $A_1$ and $A_2$ are the amplitudes of the waves.\n",
        "\n",
        "- $k$ is the wavenumber of the waves.\n",
        "\n",
        "- $ω$ is the angular frequency of the waves\n",
        "\n",
        "The resulting wave due to the superposition of these two waves is given by the following equation:\n",
        "\n",
        "$$ u(x, t) = u_1(x, t) + u_2(x, t) $$\n",
        "\n",
        "This equation shows that the resulting wave is the sum of the individual waves."
      ],
      "metadata": {
        "id": "FGk8QGeEU5EQ"
      }
    },
    {
      "cell_type": "markdown",
      "source": [
        "## Resonance\n",
        "\n",
        "Resonance is a phenomenon that occurs when a system is forced to oscillate at its natural frequency. When this happens, the amplitude of the oscillation increases dramatically."
      ],
      "metadata": {
        "id": "FaU8WQRpU8D4"
      }
    },
    {
      "cell_type": "markdown",
      "source": [
        "## Applications\n",
        "\n",
        "\n",
        "- Communication: Electromagnetic waves are used to transmit information over long distances through radio, television, and cell phone networks.\n",
        "\n",
        "- Medicine: Ultrasound waves are used to image internal organs and to guide surgery.\n",
        "\n",
        "- Seismology: Seismic waves are used to study the interior of the Earth and to locate earthquakes.\n",
        "\n",
        "- Navigation: Radar waves are used to detect objects and to determine their distance and direction, usually with satellites.\n"
      ],
      "metadata": {
        "id": "BhKJCVcGU-C2"
      }
    },
    {
      "cell_type": "markdown",
      "source": [
        "## Wave Equation\n",
        "\n",
        "The wave equation is a partial differential equation that describes the propagation of waves through a medium. It can be written in the following form:\n",
        "\n",
        "$$ \\frac {\\partial^2u}{\\partial t^2} = v^2 \\frac {\\partial^2u}{\\partial x^2} $$\n",
        "\n",
        "where:\n",
        "\n",
        "- $u(x, t)$ is the displacement of the medium at position $x$ and time $t$.\n",
        "\n",
        "- $v$ is the speed of the wave.\n",
        "\n",
        "- $\\frac {\\partial}{\\partial t}$ and $\\frac {\\partial}{\\partial x}$ are the partial derivatives of $u$ with respect to time and position, respectively.\n",
        "\n",
        "The wave equation can be derived from Newton's second law of motion. It states that the acceleration of a particle of the medium is proportional to the net force acting on the particle. The net force is the difference between the restoring force of the medium and the external force driving the wave.\n"
      ],
      "metadata": {
        "id": "Q0XgS8GNVAet"
      }
    },
    {
      "cell_type": "markdown",
      "source": [
        "## Question 7\n",
        "\n",
        "**When a pulse travels on a taut string, does it always invert upon reflection? Explain.**\n",
        "\n",
        "No, it doesn't always invert upon reflection. It depends on the boundary conditions of the string.\n",
        "\n",
        "When a guitar string is plucked, a transverse wave travels along the string. The behavior of the wave upon reflection depends on how the string is fixed at the ends.\n",
        "\n",
        "### Fixed End Reflection (Inversion)\n",
        "\n",
        "If the string is fixed at both ends, like in a typical guitar, the wave reflects with inversion. When the wave reaches the fixed end of the string, it reflects back with a reversal in its displacement. This is why you hear a distinct sound when plucking a guitar string, and the reflected wave contributes to the overall resonance and tone.\n",
        "\n",
        "### Free End Reflection (No Inversion)\n",
        "\n",
        "Now, imagine a scenario where one end of the guitar string is not fixed but rather free to move (this is a simplification for illustration). In such a case, when the wave reaches the free end, it reflects without inversion. The reflected wave does not undergo a reversal in direction, affecting the sound produced."
      ],
      "metadata": {
        "id": "RdvvKuNVVC0G"
      }
    },
    {
      "cell_type": "markdown",
      "source": [
        "## Problem 21:\n",
        "\n",
        "A telephone cord is $4 m$ long. The cord has a mass of $0.2 kg$. A transverse pulse is produced by plucking one end of the taut cord. The pulse makes four trips down and back along the cord in $0.8 s$. What is the tension in the cord?\n",
        "\n",
        "Given:\n",
        "- Length of the cord $L$: $4 m$\n",
        "- Mass of the cord $m$: $0.2 kg$\n",
        "- Time for four round trips $t$: $0.8 s$\n",
        "\n",
        "### Find the state of movement of the pulse $v$\n",
        "\n",
        "$$ v = \\frac {2L}{t} = \\frac {2 \\cdot 4 m}{0.8 s} = 10 \\frac {m}{s} $$\n",
        "\n",
        "Now that we have the state of movement of the pulse, we can calculate the tension $T$ in the cord using the equation that relates state of movement and tension $v = \\sqrt {\\frac {T}{\\mu}}$, where $\\mu$ is the linear mass density of the cord $\\mu = \\frac{m}{L}$.\n",
        "\n",
        "### Find the linear mass density $\\mu$\n",
        "\n",
        "$$ \\mu = \\frac {m}{L} = \\frac {0.2 kg}{4 m} = 0.05 \\frac {kg}{m} $$\n",
        "\n",
        "### Find the tension $T$\n",
        "\n",
        "$$ v = \\sqrt {\\frac{T}{\\mu}} $$\n",
        "\n",
        "$$ v^2 = \\frac{T}{\\mu} $$\n",
        "\n",
        "$$ v^2 \\cdot \\mu = T $$\n",
        "\n",
        "\n",
        "$$ T = v^2 \\cdot \\mu$$\n",
        "\n",
        "$$ T = (10 \\frac {m}{s})^2 \\cdot 0.05 \\frac {kg}{m}$$\n",
        "\n",
        "$$ T = 100 \\frac {m^2}{s^2} \\cdot 0.05 \\frac {kg}{m}$$\n",
        "\n",
        "$$ T = 5 N $$\n",
        "\n",
        "### Conclusion\n",
        "\n",
        "The tension in the telephone cord is $5 N$."
      ],
      "metadata": {
        "id": "JDEbK-YJV4AM"
      }
    }
  ]
}